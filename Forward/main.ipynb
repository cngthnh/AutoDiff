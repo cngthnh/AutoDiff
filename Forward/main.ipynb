{
 "cells": [
  {
   "cell_type": "code",
   "execution_count": 10,
   "metadata": {},
   "outputs": [],
   "source": [
    "from AutoDiff import *"
   ]
  },
  {
   "cell_type": "code",
   "execution_count": 11,
   "metadata": {},
   "outputs": [
    {
     "name": "stdout",
     "output_type": "stream",
     "text": [
      "1.411461758346392\n",
      "0.23207286810810887\n"
     ]
    }
   ],
   "source": [
    "x = Variable(0.1, True)\n",
    "y = Variable(1.5, False)\n",
    "z = maximum((x * log(y) + 1.7) ** 2, exp(x))\n",
    "print(z.derivative)\n",
    "x = Variable(0.1, False)\n",
    "y = Variable(1.5, True)\n",
    "z = maximum((x * log(y) + 1.7) ** 2, exp(x))\n",
    "print(z.derivative)"
   ]
  },
  {
   "cell_type": "code",
   "execution_count": 12,
   "metadata": {},
   "outputs": [
    {
     "name": "stdout",
     "output_type": "stream",
     "text": [
      "0.3592275254570664\n",
      "-1.077682576371199\n"
     ]
    }
   ],
   "source": [
    "d = Variable(3.0, True)\n",
    "e = Variable(0.5, False)\n",
    "f = (d / exp(e) - 0.15) ** log(2)\n",
    "print(f.derivative)\n",
    "d = Variable(3.0, False)\n",
    "e = Variable(0.5, True)\n",
    "f = (d / exp(e) - 0.15) ** log(2)\n",
    "print(f.derivative)"
   ]
  }
 ],
 "metadata": {
  "interpreter": {
   "hash": "8947dc92c0c6e66f47ff7301eb618331356bc317e78e32ad844529ba97bfd0e8"
  },
  "kernelspec": {
   "display_name": "Python 3.8.5 ('base')",
   "language": "python",
   "name": "python3"
  },
  "language_info": {
   "codemirror_mode": {
    "name": "ipython",
    "version": 3
   },
   "file_extension": ".py",
   "mimetype": "text/x-python",
   "name": "python",
   "nbconvert_exporter": "python",
   "pygments_lexer": "ipython3",
   "version": "3.8.5"
  },
  "orig_nbformat": 4
 },
 "nbformat": 4,
 "nbformat_minor": 2
}
